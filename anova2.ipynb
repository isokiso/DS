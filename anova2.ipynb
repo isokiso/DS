{
 "cells": [
  {
   "cell_type": "code",
   "execution_count": 13,
   "metadata": {},
   "outputs": [],
   "source": [
    "import pandas as pd\n",
    "import numpy as np\n",
    "import matplotlib.pyplot as plt\n",
    "df = pd.read_csv('../data/plant.csv')"
   ]
  },
  {
   "cell_type": "code",
   "execution_count": 12,
   "metadata": {},
   "outputs": [],
   "source": [
    "#print(df)"
   ]
  },
  {
   "cell_type": "markdown",
   "metadata": {},
   "source": [
    "## 二元配置分散分析"
   ]
  },
  {
   "cell_type": "code",
   "execution_count": 3,
   "metadata": {},
   "outputs": [
    {
     "data": {
      "image/png": "[encoded data removed]",
      "text/plain": [
       "<Figure size 432x288 with 1 Axes>"
      ]
     },
     "metadata": {
      "needs_background": "light"
     },
     "output_type": "display_data"
    }
   ],
   "source": [
    " from statsmodels.graphics.factorplots import interaction_plot\n",
    "fig = interaction_plot(df.soil, df.fertlizer, df.plant, colors=['red','blue'], markers=['D','^'], ms=10)"
   ]
  },
  {
   "cell_type": "code",
   "execution_count": 5,
   "metadata": {},
   "outputs": [
    {
     "name": "stdout",
     "output_type": "stream",
     "text": [
      "                          平方和   自由度         F値            p値\n",
      "C(fertlizer)          404.496   1.0  36.462068  6.175847e-07\n",
      "C(soil)                71.289   1.0   6.426131  1.573349e-02\n",
      "C(fertlizer):C(soil)  160.801   1.0  14.494919  5.270302e-04\n",
      "Residual              399.370  36.0        NaN           NaN\n"
     ]
    }
   ],
   "source": [
    "from statsmodels.formula.api import ols\n",
    "from statsmodels.stats.anova import anova_lm\n",
    "\n",
    "formula = 'plant ~ C(fertlizer) + C(soil) + C(fertlizer):C(soil)'\n",
    "model = ols(formula, data=df).fit()\n",
    "aov_table = anova_lm(model, typ=2)\n",
    "aov_table.columns = [\"平方和\",\"自由度\",\"F値\",\"p値\"] #列名を日本語に差し替え\n",
    "print(aov_table) #被験者間効果の検定結果を出力"
   ]
  },
  {
   "cell_type": "markdown",
   "metadata": {},
   "source": [
    "## 重回帰によるt検定"
   ]
  },
  {
   "cell_type": "code",
   "execution_count": 11,
   "metadata": {},
   "outputs": [
    {
     "data": {
      "text/html": [
       "<table class=\"simpletable\">\n",
       "<tr>\n",
       "                 <td></td>                   <th>coef</th>     <th>std err</th>      <th>t</th>      <th>P>|t|</th>  <th>[0.025</th>    <th>0.975]</th>  \n",
       "</tr>\n",
       "<tr>\n",
       "  <th>Intercept</th>                      <td>   32.3700</td> <td>    1.053</td> <td>   30.733</td> <td> 0.000</td> <td>   30.234</td> <td>   34.506</td>\n",
       "</tr>\n",
       "<tr>\n",
       "  <th>C(fertlizer)[T.1]</th>              <td>    2.3500</td> <td>    1.490</td> <td>    1.578</td> <td> 0.123</td> <td>   -0.671</td> <td>    5.371</td>\n",
       "</tr>\n",
       "<tr>\n",
       "  <th>C(soil)[T.1]</th>                   <td>   -6.6800</td> <td>    1.490</td> <td>   -4.485</td> <td> 0.000</td> <td>   -9.701</td> <td>   -3.659</td>\n",
       "</tr>\n",
       "<tr>\n",
       "  <th>C(fertlizer)[T.1]:C(soil)[T.1]</th> <td>    8.0200</td> <td>    2.107</td> <td>    3.807</td> <td> 0.001</td> <td>    3.748</td> <td>   12.292</td>\n",
       "</tr>\n",
       "</table>"
      ],
      "text/plain": [
       "<class 'statsmodels.iolib.table.SimpleTable'>"
      ]
     },
     "execution_count": 11,
     "metadata": {},
     "output_type": "execute_result"
    }
   ],
   "source": [
    "import statsmodels.api as sm\n",
    "lm_mod = sm.OLS.from_formula(\"plant ~ C(fertlizer) + C(soil) + C(fertlizer):C(soil)\",data=df).fit()\n",
    "lm_mod.summary().tables[1]"
   ]
  }
 ],
 "metadata": {
  "kernelspec": {
   "display_name": "Python 3",
   "language": "python",
   "name": "python3"
  },
  "language_info": {
   "codemirror_mode": {
    "name": "ipython",
    "version": 3
   },
   "file_extension": ".py",
   "mimetype": "text/x-python",
   "name": "python",
   "nbconvert_exporter": "python",
   "pygments_lexer": "ipython3",
   "version": "3.7.4"
  }
 },
 "nbformat": 4,
 "nbformat_minor": 2
}
