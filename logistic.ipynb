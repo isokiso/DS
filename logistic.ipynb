{
 "cells": [
  {
   "cell_type": "code",
   "execution_count": 1,
   "metadata": {},
   "outputs": [],
   "source": [
    "import numpy as np\n",
    "import matplotlib.pyplot as plt"
   ]
  },
  {
   "cell_type": "code",
   "execution_count": 2,
   "metadata": {},
   "outputs": [
    {
     "name": "stdout",
     "output_type": "stream",
     "text": [
      "['gas concentration', 'number of beetles', 'number of deaths']\n",
      "[[ 1.6907 59.      6.    ]\n",
      " [ 1.7242 60.     13.    ]\n",
      " [ 1.7552 62.     18.    ]\n",
      " [ 1.7842 56.     28.    ]\n",
      " [ 1.8113 63.     52.    ]\n",
      " [ 1.8369 59.     53.    ]\n",
      " [ 1.861  62.     61.    ]\n",
      " [ 1.8839 60.     60.    ]]\n"
     ]
    }
   ],
   "source": [
    "with open('../data/beetle_original.csv', 'r') as f:\n",
    "    header = f.readline().strip().split(',')\n",
    "    src = []\n",
    "    for line in f:\n",
    "        src.append(list(map(float, line.strip().split(','))))\n",
    "src = np.array(src)\n",
    "print(header)\n",
    "print(src)"
   ]
  },
  {
   "cell_type": "code",
   "execution_count": 3,
   "metadata": {
    "scrolled": true
   },
   "outputs": [
    {
     "name": "stdout",
     "output_type": "stream",
     "text": [
      "[[1.     1.     1.     1.     1.     1.     1.     1.    ]\n",
      " [1.6907 1.7242 1.7552 1.7842 1.8113 1.8369 1.861  1.8839]]\n"
     ]
    }
   ],
   "source": [
    "y = src[:,2]\n",
    "x = src[:,0][np.newaxis,:]\n",
    "x = np.concatenate([np.ones(src.shape[0])[np.newaxis,:], x], 0)\n",
    "print(x)"
   ]
  },
  {
   "cell_type": "markdown",
   "metadata": {},
   "source": [
    "# Logistic regression (1変数)"
   ]
  },
  {
   "cell_type": "code",
   "execution_count": 4,
   "metadata": {},
   "outputs": [
    {
     "data": {
      "text/plain": [
       "[<matplotlib.lines.Line2D at 0x11978c210>]"
      ]
     },
     "execution_count": 4,
     "metadata": {},
     "output_type": "execute_result"
    },
    {
     "data": {
      "image/png": "[encoded data removed]",
      "text/plain": [
       "<Figure size 432x288 with 1 Axes>"
      ]
     },
     "metadata": {
      "needs_background": "light"
     },
     "output_type": "display_data"
    }
   ],
   "source": [
    "def err(w):\n",
    "    pred = calc_freq(w)\n",
    "    return (np.square(y - pred)).mean()\n",
    "\n",
    "def calc_prob(x, w):\n",
    "    z = w.dot(x)\n",
    "    p = 1/(1+np.exp(-z))\n",
    "    return p\n",
    "    \n",
    "def calc_freq(w):\n",
    "    p = calc_prob(x, w)\n",
    "    estimated_freq = src[:,1]*p\n",
    "    return estimated_freq\n",
    "\n",
    "def update(w):\n",
    "    delta = np.array([0., 0.])\n",
    "    eita = 0.005\n",
    "    estimated_freq = calc_freq(w)\n",
    "    delta[0] = (y-estimated_freq).sum()\n",
    "    delta[1] = ((y-estimated_freq)*x[1]).sum()\n",
    "    w += eita*delta\n",
    "    return w\n",
    "w = np.array([1., 1.])\n",
    "err_ = []\n",
    "for i in range(10000):\n",
    "    w = update(w)\n",
    "    err_.append(err(w))\n",
    "plt.figure()\n",
    "plt.xlabel('iteration')\n",
    "plt.ylabel('MSE')\n",
    "plt.plot(err_)\n"
   ]
  },
  {
   "cell_type": "code",
   "execution_count": 5,
   "metadata": {},
   "outputs": [
    {
     "data": {
      "text/plain": [
       "Text(0, 0.5, 'probability of death')"
      ]
     },
     "execution_count": 5,
     "metadata": {},
     "output_type": "execute_result"
    },
    {
     "data": {
      "image/png": "[encoded data removed]",
      "text/plain": [
       "<Figure size 432x288 with 1 Axes>"
      ]
     },
     "metadata": {
      "needs_background": "light"
     },
     "output_type": "display_data"
    }
   ],
   "source": [
    "X = np.linspace(1.5,2., 100).reshape(1,100)\n",
    "X = np.concatenate([np.ones(X.shape[1]).reshape(1,100), X], axis=0)\n",
    "plt.figure()\n",
    "plt.plot(X[1], calc_prob(X,w))\n",
    "plt.scatter(x[1], src[:,2]/src[:,1])\n",
    "plt.xlabel(header[0])\n",
    "plt.ylabel('probability of death')"
   ]
  },
  {
   "cell_type": "markdown",
   "metadata": {},
   "source": [
    "# 2変数"
   ]
  },
  {
   "cell_type": "code",
   "execution_count": 6,
   "metadata": {},
   "outputs": [
    {
     "name": "stdout",
     "output_type": "stream",
     "text": [
      "     PassengerId  Survived  Pclass   Age     Fare  Sex\n",
      "0              1         0       3  22.0   7.2500    0\n",
      "1              2         1       1  38.0  71.2833    1\n",
      "2              3         1       3  26.0   7.9250    1\n",
      "3              4         1       1  35.0  53.1000    1\n",
      "4              5         0       3  35.0   8.0500    0\n",
      "..           ...       ...     ...   ...      ...  ...\n",
      "886          887         0       2  27.0  13.0000    0\n",
      "887          888         1       1  19.0  30.0000    1\n",
      "888          889         0       3   NaN  23.4500    1\n",
      "889          890         1       1  26.0  30.0000    0\n",
      "890          891         0       3  32.0   7.7500    0\n",
      "\n",
      "[891 rows x 6 columns]\n"
     ]
    }
   ],
   "source": [
    "import pandas as pd\n",
    "import seaborn as sns\n",
    "df = pd.read_csv('../data/titanic_data.csv')\n",
    "print(df)"
   ]
  },
  {
   "cell_type": "markdown",
   "metadata": {},
   "source": [
    "## 事前分析"
   ]
  },
  {
   "cell_type": "code",
   "execution_count": 7,
   "metadata": {},
   "outputs": [
    {
     "name": "stderr",
     "output_type": "stream",
     "text": [
      "/Users/isokawakoki/.pyenv/versions/anaconda3-5.3.1/lib/python3.7/site-packages/seaborn/categorical.py:3666: UserWarning: The `factorplot` function has been renamed to `catplot`. The original name will be removed in a future release. Please update your code. Note that the default `kind` in `factorplot` (`'point'`) has changed `'strip'` in `catplot`.\n",
      "  warnings.warn(msg)\n",
      "/Users/isokawakoki/.pyenv/versions/anaconda3-5.3.1/lib/python3.7/site-packages/seaborn/categorical.py:3672: UserWarning: The `size` paramter has been renamed to `height`; please update your code.\n",
      "  warnings.warn(msg, UserWarning)\n"
     ]
    },
    {
     "data": {
      "image/png": "[encoded data removed]",
      "text/plain": [
       "<Figure size 432x432 with 1 Axes>"
      ]
     },
     "metadata": {
      "needs_background": "light"
     },
     "output_type": "display_data"
    }
   ],
   "source": [
    "s_s = sns.factorplot(x=\"Sex\",y=\"Survived\", data=df, kind=\"bar\", size = 6 )\n",
    "s_s = s_s.set_ylabels(\"survival prob\")\n",
    "plt.show()\n",
    "\n",
    "# 女性の生存率が高い"
   ]
  },
  {
   "cell_type": "code",
   "execution_count": 8,
   "metadata": {},
   "outputs": [
    {
     "data": {
      "image/png": "[encoded data removed]",
      "text/plain": [
       "<Figure size 432x432 with 1 Axes>"
      ]
     },
     "metadata": {
      "needs_background": "light"
     },
     "output_type": "display_data"
    }
   ],
   "source": [
    "c_s = sns.factorplot(x=\"Pclass\",y=\"Survived\", data=df, kind=\"bar\", size = 6 )\n",
    "c_s = c_s.set_ylabels(\"survival prob\")\n",
    "plt.show()\n",
    "\n",
    "#1級，2級，3級の順で生存率が高い"
   ]
  },
  {
   "cell_type": "code",
   "execution_count": 9,
   "metadata": {},
   "outputs": [
    {
     "data": {
      "image/png": "[encoded data removed]",
      "text/plain": [
       "<Figure size 432x216 with 2 Axes>"
      ]
     },
     "metadata": {
      "needs_background": "light"
     },
     "output_type": "display_data"
    }
   ],
   "source": [
    "Fg = sns.FacetGrid(df, col='Survived')\n",
    "Fg = Fg.map(sns.distplot, \"Age\")\n",
    "\n",
    "#子供の生存率が高い, 死亡者は20代付近が多い"
   ]
  },
  {
   "cell_type": "code",
   "execution_count": 10,
   "metadata": {},
   "outputs": [
    {
     "data": {
      "image/png": "[encoded data removed]",
      "text/plain": [
       "<Figure size 432x216 with 2 Axes>"
      ]
     },
     "metadata": {
      "needs_background": "light"
     },
     "output_type": "display_data"
    }
   ],
   "source": [
    "Fg = sns.FacetGrid(df, col='Survived')\n",
    "Fg = Fg.map(sns.distplot, \"Fare\")\n",
    "\n",
    "#死亡者の内訳として運賃が低い人が多い"
   ]
  },
  {
   "cell_type": "markdown",
   "metadata": {},
   "source": [
    "## 複数の組み合せでLogistic regression\n",
    "いずれも5-fold cross validationで評価"
   ]
  },
  {
   "cell_type": "code",
   "execution_count": 215,
   "metadata": {},
   "outputs": [
    {
     "name": "stdout",
     "output_type": "stream",
     "text": [
      "Sex+Pclass: 0.21328497507081207\n",
      "Sex+Age: 0.2198660494435142\n",
      "Sex+Fare: 0.2188840504619675\n",
      "Pclass+Age: 0.32350044321875304\n",
      "Pclass+Fare: 0.31744082088469805\n",
      "Age+Fare: 0.3529203191175022\n",
      "All: 0.20586033684625232\n"
     ]
    }
   ],
   "source": [
    "from sklearn import linear_model\n",
    "from sklearn.model_selection import cross_val_score\n",
    "\n",
    "logi = linear_model.LogisticRegression(C=0.1, max_iter=1000 ,penalty='l2')\n",
    "explanatory = df.loc[:, ['Sex', 'Pclass']]\n",
    "res = df['Survived']\n",
    "scores = cross_val_score(logi, explanatory, res, cv=5)\n",
    "print('Sex+Pclass: {}'.format((1-scores).mean()))\n",
    "\n",
    "df2 = df.loc[:,['Survived', 'Sex', 'Age']]\n",
    "df2 = df2.dropna(how='any')\n",
    "logi = linear_model.LogisticRegression(C=0.1, max_iter=1000 ,penalty='l2')\n",
    "explanatory = df2.loc[:, ['Sex', 'Age']]\n",
    "res = df2['Survived']\n",
    "scores = cross_val_score(logi, explanatory, res, cv=5)\n",
    "print('Sex+Age: {}'.format((1-scores).mean()))\n",
    "\n",
    "df2 = df.loc[:,['Survived', 'Sex', 'Fare']]\n",
    "df2 = df2.dropna(how='any')\n",
    "logi = linear_model.LogisticRegression(C=0.1, max_iter=1000 ,penalty='l2')\n",
    "explanatory = df2.loc[:, ['Sex', 'Fare']]\n",
    "res = df2['Survived']\n",
    "scores = cross_val_score(logi, explanatory, res, cv=5)\n",
    "print('Sex+Fare: {}'.format((1-scores).mean()))\n",
    "\n",
    "df2 = df.loc[:,['Survived', 'Age', \"Pclass\"]]\n",
    "df2 = df2.dropna(how='any')\n",
    "logi = linear_model.LogisticRegression(C=0.1, max_iter=1000 ,penalty='l2')\n",
    "explanatory = df2.loc[:, ['Age', 'Pclass']]\n",
    "res = df2['Survived']\n",
    "scores = cross_val_score(logi, explanatory, res, cv=5)\n",
    "print('Pclass+Age: {}'.format((1-scores).mean()))\n",
    "\n",
    "df2 = df.loc[:,['Survived', 'Fare', \"Pclass\"]]\n",
    "df2 = df2.dropna(how='any')\n",
    "logi = linear_model.LogisticRegression(C=0.1, max_iter=1000 ,penalty='l2')\n",
    "explanatory = df2.loc[:, ['Fare', 'Pclass']]\n",
    "res = df2['Survived']\n",
    "scores = cross_val_score(logi, explanatory, res, cv=5)\n",
    "print('Pclass+Fare: {}'.format((1-scores).mean()))\n",
    "\n",
    "df2 = df.loc[:,['Survived', 'Age', \"Fare\"]]\n",
    "df2 = df2.dropna(how='any')\n",
    "logi = linear_model.LogisticRegression(C=0.1, max_iter=1000 ,penalty='l2')\n",
    "explanatory = df2.loc[:, ['Age', 'Fare']]\n",
    "res = df2['Survived']\n",
    "scores = cross_val_score(logi, explanatory, res, cv=5)\n",
    "print('Age+Fare: {}'.format((1-scores).mean()))\n",
    "\n",
    "df2 = df.loc[:,['Survived', 'Age', \"Pclass\", 'Sex','Fare']]\n",
    "df2 = df2.dropna(how='any')\n",
    "logi = linear_model.LogisticRegression(C=0.1, max_iter=1000 ,penalty='l2')\n",
    "explanatory = df2.loc[:, ['Age', 'Pclass','Sex']]\n",
    "res = df2['Survived']\n",
    "scores = cross_val_score(logi, explanatory, res, cv=5)\n",
    "print('All: {}'.format((1-scores).mean()))\n"
   ]
  },
  {
   "cell_type": "markdown",
   "metadata": {},
   "source": [
    "結果：\n",
    ">Ageを使うと予測精度向上．  \n",
    ">Age + Fare が良さげ"
   ]
  },
  {
   "cell_type": "code",
   "execution_count": null,
   "metadata": {},
   "outputs": [],
   "source": []
  }
 ],
 "metadata": {
  "kernelspec": {
   "display_name": "Python 3",
   "language": "python",
   "name": "python3"
  },
  "language_info": {
   "codemirror_mode": {
    "name": "ipython",
    "version": 3
   },
   "file_extension": ".py",
   "mimetype": "text/x-python",
   "name": "python",
   "nbconvert_exporter": "python",
   "pygments_lexer": "ipython3",
   "version": "3.7.4"
  }
 },
 "nbformat": 4,
 "nbformat_minor": 2
}
