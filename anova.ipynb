{
 "cells": [
  {
   "cell_type": "code",
   "execution_count": 113,
   "metadata": {},
   "outputs": [
    {
     "name": "stdout",
     "output_type": "stream",
     "text": [
      "   lake1  lake2  lake3  lake4  lake5\n",
      "0   28.2   39.6   46.3   41.0   56.3\n",
      "1   33.2   40.8   42.1   44.1   54.1\n",
      "2   36.4   37.9   43.5   46.4   59.4\n",
      "3   34.6   37.1   48.8   40.2   62.7\n",
      "4   29.1   43.6   43.7   38.6   60.0\n",
      "5   31.0   42.4   40.1   36.3   57.3\n"
     ]
    }
   ],
   "source": [
    "import pandas as pd\n",
    "df = pd.read_csv('../data/stron_lake.csv')\n",
    "print(df)"
   ]
  },
  {
   "cell_type": "markdown",
   "metadata": {},
   "source": [
    "## 分散分析(実装）"
   ]
  },
  {
   "cell_type": "code",
   "execution_count": 98,
   "metadata": {},
   "outputs": [],
   "source": [
    "mean_total = df.mean().mean()\n",
    "sq_sum = ((df-df.mean().mean())**2).sum().sum()\n",
    "sq_sum_w = ((df-df.mean())**2).sum().sum()\n",
    "sq_sum_b = (((df.mean() - df.mean().mean())**2)*6).sum()\n",
    "\n",
    "D_w = (6-1)*5\n",
    "D_b = 5-1\n",
    "\n",
    "V_w = sq_sum_w/D_w\n",
    "V_b = sq_sum_b/D_b\n",
    "\n",
    "f =  V_b/V_w"
   ]
  },
  {
   "cell_type": "code",
   "execution_count": 99,
   "metadata": {},
   "outputs": [
    {
     "name": "stdout",
     "output_type": "stream",
     "text": [
      "f =  56.15455904640972\n"
     ]
    }
   ],
   "source": [
    "print('f = ',f)"
   ]
  },
  {
   "cell_type": "code",
   "execution_count": 94,
   "metadata": {},
   "outputs": [
    {
     "name": "stdout",
     "output_type": "stream",
     "text": [
      "上側確率 5%: 2.758710469717632\n",
      "上側確率 1%: 4.1774202346456395\n"
     ]
    }
   ],
   "source": [
    "from scipy.stats import f\n",
    "\n",
    "# 分子、分母の自由度\n",
    "dfn, dfd = 4, 25\n",
    "\n",
    "# 5%点の値(上側なので、95% を指定する)\n",
    "five = f.ppf(0.95, dfn, dfd)\n",
    "print('上側確率 5%:', five)\n",
    "\n",
    "# 1%点の値(上側なので、99% を指定する)\n",
    "one = f.ppf(0.99, dfn, dfd)\n",
    "print('上側確率 1%:', one)"
   ]
  },
  {
   "cell_type": "markdown",
   "metadata": {},
   "source": [
    "## 分散分析（確認）"
   ]
  },
  {
   "cell_type": "code",
   "execution_count": 103,
   "metadata": {},
   "outputs": [
    {
     "name": "stdout",
     "output_type": "stream",
     "text": [
      "f =  56.15455904640978\n",
      "p =  3.947885416487587e-12\n"
     ]
    }
   ],
   "source": [
    "from scipy import stats as st\n",
    "f, p = st.f_oneway(df['lake1'], df['lake2'],df['lake3'], df['lake4'], df['lake5'])\n",
    "print('f = ',f)\n",
    "print('p = ',p)"
   ]
  },
  {
   "cell_type": "markdown",
   "metadata": {},
   "source": [
    "## 多重検定\n",
    "すべての2群の組み合せに対して平均値が等しいことをTukey-Kramerの手法で検定"
   ]
  },
  {
   "cell_type": "code",
   "execution_count": 111,
   "metadata": {},
   "outputs": [
    {
     "data": {
      "text/plain": [
       "Text(0,0.5,'strength')"
      ]
     },
     "execution_count": 111,
     "metadata": {},
     "output_type": "execute_result"
    },
    {
     "data": {
      "image/png": "[encoded data removed]",
      "text/plain": [
       "<Figure size 432x288 with 1 Axes>"
      ]
     },
     "metadata": {
      "needs_background": "light"
     },
     "output_type": "display_data"
    }
   ],
   "source": [
    "from matplotlib import pyplot as plt\n",
    "import numpy as np\n",
    "lake1 = df['lake1']\n",
    "lake2 = df['lake2']\n",
    "lake3 = df['lake3']\n",
    "lake4 = df['lake4']\n",
    "lake5 = df['lake5']\n",
    "# 横軸\n",
    "horizontal_axis = df.columns.values\n",
    "# 縦軸\n",
    "vertical_axis = np.array(np.mean(df))\n",
    "# エラーバー\n",
    "error_bar = np.array(np.std(df) / np.sqrt(12))\n",
    "plt.bar(horizontal_axis, vertical_axis, yerr = error_bar, ecolor=\"black\", capsize=5)\n",
    "plt.xlabel(\"lake\")\n",
    "plt.ylabel(\"strength\")"
   ]
  },
  {
   "cell_type": "code",
   "execution_count": 110,
   "metadata": {},
   "outputs": [
    {
     "name": "stdout",
     "output_type": "stream",
     "text": [
      "Multiple Comparison of Means - Tukey HSD,FWER=0.05\n",
      "=============================================\n",
      "group1 group2 meandiff  lower   upper  reject\n",
      "---------------------------------------------\n",
      "lake1  lake2    8.15    2.8511 13.4489  True \n",
      "lake1  lake3    12.0    6.7011 17.2989  True \n",
      "lake1  lake4   9.0167   3.7178 14.3156  True \n",
      "lake1  lake5  26.2167  20.9178 31.5156  True \n",
      "lake2  lake3    3.85   -1.4489  9.1489 False \n",
      "lake2  lake4   0.8667  -4.4322  6.1656 False \n",
      "lake2  lake5  18.0667  12.7678 23.3656  True \n",
      "lake3  lake4  -2.9833  -8.2822  2.3156 False \n",
      "lake3  lake5  14.2167   8.9178 19.5156  True \n",
      "lake4  lake5    17.2   11.9011 22.4989  True \n",
      "---------------------------------------------\n"
     ]
    }
   ],
   "source": [
    "from statsmodels.stats.multicomp import pairwise_tukeyhsd\n",
    "def tukey_hsd( ind, *args ):\n",
    "    # 第1引数:名称のリスト（index）, 第2引数以降: データ (*args: 複数の引数をタプルとして受け取る)\n",
    "    data_arr = np.hstack( args ) \n",
    "    ind_arr = np.array([])\n",
    "    for x in range(len(args)):\n",
    "        ind_arr = np.append(ind_arr, np.repeat(ind[x], len(args[x]))) \n",
    "    print(pairwise_tukeyhsd(data_arr,ind_arr))\n",
    "    \n",
    "tukey_hsd(df.columns , lake1, lake2, lake3, lake4, lake5)"
   ]
  },
  {
   "cell_type": "code",
   "execution_count": null,
   "metadata": {},
   "outputs": [],
   "source": []
  }
 ],
 "metadata": {},
 "nbformat": 4,
 "nbformat_minor": 2
}
